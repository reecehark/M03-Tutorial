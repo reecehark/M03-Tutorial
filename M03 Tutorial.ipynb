{
 "cells": [
  {
   "cell_type": "code",
   "execution_count": 7,
   "id": "34d3dc13",
   "metadata": {},
   "outputs": [
    {
     "name": "stdout",
     "output_type": "stream",
     "text": [
      "<__main__.Thing object at 0x000002A9B751C3D0>\n",
      "<__main__.Thing object at 0x000002A9B74DDC90>\n"
     ]
    }
   ],
   "source": [
    "#10.1\n",
    "class Thing:\n",
    "    pass\n",
    "\n",
    "print(Thing())\n",
    "\n",
    "example = Thing()\n",
    "print(example)\n",
    "#The printed values are different"
   ]
  },
  {
   "cell_type": "code",
   "execution_count": 11,
   "id": "95dcb131",
   "metadata": {},
   "outputs": [],
   "source": [
    "#10.4\n",
    "class Element:\n",
    "    def __init__(self, name, symbol, number):\n",
    "        self.name = name\n",
    "        self.symbol = symbol\n",
    "        self.number = number\n",
    "\n",
    "hydrogen = Element('Hydrogen', 'H', 1)"
   ]
  },
  {
   "cell_type": "code",
   "execution_count": 12,
   "id": "19a5bcba",
   "metadata": {},
   "outputs": [
    {
     "name": "stdout",
     "output_type": "stream",
     "text": [
      "The bear eats berries\n",
      "The rabbit eats clover\n",
      "The octothorpe eats campers\n"
     ]
    }
   ],
   "source": [
    "#10.9\n",
    "class Bear:\n",
    "    def eats(self):\n",
    "        return 'berries'\n",
    "\n",
    "class Rabbit:\n",
    "    def eats(self):\n",
    "        return 'clover'\n",
    "\n",
    "class Octothorpe:\n",
    "    def eats(self):\n",
    "        return 'campers'\n",
    "\n",
    "bear = Bear()\n",
    "rabbit = Rabbit()\n",
    "octothorpe = Octothorpe()\n",
    "\n",
    "print(f\"The bear eats {bear.eats()}\")\n",
    "print(f\"The rabbit eats {rabbit.eats()}\")\n",
    "print(f\"The octothorpe eats {octothorpe.eats()}\")"
   ]
  },
  {
   "cell_type": "code",
   "execution_count": 13,
   "id": "60ef91d9",
   "metadata": {},
   "outputs": [
    {
     "name": "stdout",
     "output_type": "stream",
     "text": [
      "Name: Hydrogen\n",
      "Symbol: H\n",
      "Number: 1\n"
     ]
    }
   ],
   "source": [
    "#10.5\n",
    "class Element:\n",
    "    def __init__(self, name, symbol, number):\n",
    "        self.name = name\n",
    "        self.symbol = symbol\n",
    "        self.number = number\n",
    "\n",
    "hydrogen_dict = {'name': 'Hydrogen', 'symbol': 'H', 'number': 1}\n",
    "\n",
    "hydrogen = Element(**hydrogen_dict)\n",
    "\n",
    "print(f\"Name: {hydrogen.name}\")\n",
    "print(f\"Symbol: {hydrogen.symbol}\")\n",
    "print(f\"Number: {hydrogen.number}\")"
   ]
  }
 ],
 "metadata": {
  "kernelspec": {
   "display_name": "Python 3 (ipykernel)",
   "language": "python",
   "name": "python3"
  },
  "language_info": {
   "codemirror_mode": {
    "name": "ipython",
    "version": 3
   },
   "file_extension": ".py",
   "mimetype": "text/x-python",
   "name": "python",
   "nbconvert_exporter": "python",
   "pygments_lexer": "ipython3",
   "version": "3.10.9"
  }
 },
 "nbformat": 4,
 "nbformat_minor": 5
}
